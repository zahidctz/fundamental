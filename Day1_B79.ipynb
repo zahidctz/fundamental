{
 "cells": [
  {
   "cell_type": "code",
   "execution_count": 3,
   "id": "86a05d27-867c-47fb-9471-19166ffeb565",
   "metadata": {},
   "outputs": [
    {
     "name": "stdout",
     "output_type": "stream",
     "text": [
      "Hello world program\n"
     ]
    }
   ],
   "source": [
    "print(\"Hello world program\")"
   ]
  },
  {
   "cell_type": "code",
   "execution_count": null,
   "id": "92f15ec9-a69d-4291-8b80-f882e24e6536",
   "metadata": {},
   "outputs": [],
   "source": []
  },
  {
   "cell_type": "code",
   "execution_count": null,
   "id": "442dbb8c-6475-4d1e-a98e-1f58f1badb1b",
   "metadata": {},
   "outputs": [],
   "source": []
  },
  {
   "cell_type": "code",
   "execution_count": null,
   "id": "d53639fd-72e7-4113-bdf9-4a9470b5b4cd",
   "metadata": {},
   "outputs": [],
   "source": []
  },
  {
   "cell_type": "code",
   "execution_count": null,
   "id": "923eeac4-d075-46c3-878f-635a3eed5212",
   "metadata": {},
   "outputs": [],
   "source": []
  }
 ],
 "metadata": {
  "kernelspec": {
   "display_name": "anaconda-panel-2023.05-py310",
   "language": "python",
   "name": "conda-env-anaconda-panel-2023.05-py310-py"
  },
  "language_info": {
   "codemirror_mode": {
    "name": "ipython",
    "version": 3
   },
   "file_extension": ".py",
   "mimetype": "text/x-python",
   "name": "python",
   "nbconvert_exporter": "python",
   "pygments_lexer": "ipython3",
   "version": "3.11.4"
  }
 },
 "nbformat": 4,
 "nbformat_minor": 5
}
